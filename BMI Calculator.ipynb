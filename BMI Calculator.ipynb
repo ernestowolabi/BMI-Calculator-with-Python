{
 "cells": [
  {
   "cell_type": "code",
   "execution_count": 6,
   "id": "b851f0ed-3c90-4ae4-b42e-ce9712b155db",
   "metadata": {},
   "outputs": [
    {
     "name": "stdin",
     "output_type": "stream",
     "text": [
      "Enter your first name ernest\n",
      "Enter your weight in kilograms 90\n",
      "Enter your height in meters 1.79\n"
     ]
    },
    {
     "name": "stdout",
     "output_type": "stream",
     "text": [
      "28.089010954714272\n",
      "ernest, you are overweight\n"
     ]
    }
   ],
   "source": [
    "#Input for height & weight\n",
    "\n",
    "name = input('first name:')\n",
    "weight = float(input('weight in kilograms:'))\n",
    "height = float(input('height in meters'))\n",
    "\n",
    "BMI = weight / height**2 \n",
    "\n",
    "print(BMI)\n",
    "\n",
    "if BMI < 18.5:\n",
    "    print(name + ', ' + 'you are underweight')\n",
    "elif BMI < 25:\n",
    "    print(name + ', ' + 'you are normal weight')\n",
    "elif BMI < 30:\n",
    "    print(name + ', ' + 'you are overweight')\n",
    "elif BMI < 35:\n",
    "    print(name + ', ' + 'you are obese')\n",
    "elif BMI < 40:\n",
    "    print(name + ', ' + 'you are severely obese')\n",
    "elif BMI >= 40:\n",
    "    print(name + ', ' + 'you are morbidly obese')"
   ]
  },
  {
   "cell_type": "code",
   "execution_count": null,
   "id": "2b5c7743-cf08-463d-8340-e589e2e06b8b",
   "metadata": {},
   "outputs": [],
   "source": []
  }
 ],
 "metadata": {
  "kernelspec": {
   "display_name": "Python 3 (ipykernel)",
   "language": "python",
   "name": "python3"
  },
  "language_info": {
   "codemirror_mode": {
    "name": "ipython",
    "version": 3
   },
   "file_extension": ".py",
   "mimetype": "text/x-python",
   "name": "python",
   "nbconvert_exporter": "python",
   "pygments_lexer": "ipython3",
   "version": "3.11.7"
  }
 },
 "nbformat": 4,
 "nbformat_minor": 5
}
